{
 "cells": [
  {
   "cell_type": "code",
   "execution_count": 1,
   "id": "6875b8d4",
   "metadata": {},
   "outputs": [],
   "source": [
    "# import numpy as np\n",
    "import math\n",
    "\n",
    "import snr as snr"
   ]
  },
  {
   "cell_type": "code",
   "execution_count": 2,
   "id": "86f44f8a",
   "metadata": {},
   "outputs": [
    {
     "name": "stdout",
     "output_type": "stream",
     "text": [
      "50000000.0\n"
     ]
    }
   ],
   "source": [
    "## Calculate the noise bandwidth at the receiver\n",
    "\n",
    "# tp = 20 * math.pow(10, -9)\n",
    "tp = 20e-9\n",
    "\n",
    "NBR = snr.noisebwR(1,1,tp)\n",
    "print(NBR)\n"
   ]
  },
  {
   "cell_type": "code",
   "execution_count": 3,
   "id": "e6e21cf5",
   "metadata": {},
   "outputs": [
    {
     "name": "stdout",
     "output_type": "stream",
     "text": [
      "0.7117703227626097\n"
     ]
    }
   ],
   "source": [
    "tauA = snr.tauA(0.17, 1, 2)\n",
    "print(tauA)"
   ]
  },
  {
   "cell_type": "code",
   "execution_count": 4,
   "id": "15df02c7",
   "metadata": {},
   "outputs": [
    {
     "name": "stdout",
     "output_type": "stream",
     "text": [
      "0.0015205308443374597\n",
      "4.074390580493107e-05\n"
     ]
    }
   ],
   "source": [
    "Ar = math.pi * math.pow(0.044, 2)/ 4\n",
    "print(Ar)\n",
    "Dn = 3 *math.pow(10, 11)\n",
    "NEE = snr.NEE(NBR, 3.5, Dn, Ar, tauA)\n",
    "print(NEE)"
   ]
  },
  {
   "cell_type": "code",
   "execution_count": 5,
   "id": "40663a7a",
   "metadata": {},
   "outputs": [
    {
     "name": "stdout",
     "output_type": "stream",
     "text": [
      "1.601\n"
     ]
    }
   ],
   "source": [
    "DT = math.pow(10, -3)\n",
    "thetaB = 0.8 * math.pow(10, -3)\n",
    "RT = 2000\n",
    "LBSD = snr.LBSD(DT, RT, thetaB)\n",
    "print(LBSD)"
   ]
  },
  {
   "cell_type": "code",
   "execution_count": 6,
   "id": "9d485ea1",
   "metadata": {},
   "outputs": [
    {
     "name": "stdout",
     "output_type": "stream",
     "text": [
      "2.0131333578185027\n"
     ]
    }
   ],
   "source": [
    "LBArea = snr.LBArea(DT, RT, thetaB)\n",
    "print(LBArea)"
   ]
  },
  {
   "cell_type": "code",
   "execution_count": 7,
   "id": "80d204db",
   "metadata": {},
   "outputs": [
    {
     "name": "stdout",
     "output_type": "stream",
     "text": [
      "4000000.0\n",
      "1986952.322092825\n"
     ]
    }
   ],
   "source": [
    "PT = (80 * math.pow(10, -3)) / (20 * math.pow(10, -9))\n",
    "print(PT)\n",
    "PDTarget2 = snr.PDTarget2(PT, LBArea)\n",
    "print(PDTarget2)"
   ]
  },
  {
   "cell_type": "code",
   "execution_count": 8,
   "id": "1edcf96a",
   "metadata": {},
   "outputs": [
    {
     "name": "stdout",
     "output_type": "stream",
     "text": [
      "1414253.695609927\n"
     ]
    }
   ],
   "source": [
    "PDTargetA = snr.PDTargetA(PDTarget2, tauA)\n",
    "print(PDTargetA)"
   ]
  },
  {
   "cell_type": "code",
   "execution_count": 9,
   "id": "e916bde7",
   "metadata": {},
   "outputs": [
    {
     "name": "stdout",
     "output_type": "stream",
     "text": [
      "0.2617993877991494\n",
      "1366064.1695143871\n"
     ]
    }
   ],
   "source": [
    "thetaT = math.pi /12\n",
    "PDTargetS = snr.PDTargetS(PDTargetA, thetaT)\n",
    "print(thetaT)\n",
    "print(PDTargetS)"
   ]
  },
  {
   "cell_type": "code",
   "execution_count": 10,
   "id": "4cd0c999",
   "metadata": {},
   "outputs": [
    {
     "name": "stdout",
     "output_type": "stream",
     "text": [
      "409819.2508543161\n"
     ]
    }
   ],
   "source": [
    "p = 0.3\n",
    "RPDTarget = snr.RPDTarget(PDTargetS, p)\n",
    "print(RPDTarget)"
   ]
  },
  {
   "cell_type": "code",
   "execution_count": 11,
   "id": "81bbe63d",
   "metadata": {},
   "outputs": [
    {
     "name": "stdout",
     "output_type": "stream",
     "text": [
      "130449.51909536372\n"
     ]
    }
   ],
   "source": [
    "TB = snr.TB(RPDTarget)\n",
    "print(TB)"
   ]
  },
  {
   "cell_type": "code",
   "execution_count": 12,
   "id": "a19ee5d6",
   "metadata": {},
   "outputs": [
    {
     "name": "stdout",
     "output_type": "stream",
     "text": [
      "1.6894787159305108e-10\n",
      "0.6004955788122659\n"
     ]
    }
   ],
   "source": [
    "RR = 3000\n",
    "AT = 5\n",
    "thetaR = 2 * math.pi / 5\n",
    "SA = snr.SA(Ar, RR)\n",
    "##(1.52 * math.pow(10, -3))/ math.pow(3000, 2)\n",
    "print(SA)\n",
    "tauB = snr.tauB(0.17, 1, 3)\n",
    "print(tauB)"
   ]
  },
  {
   "cell_type": "code",
   "execution_count": 13,
   "id": "e30751da",
   "metadata": {},
   "outputs": [
    {
     "name": "stdout",
     "output_type": "stream",
     "text": [
      "2.0448308561371967e-05\n"
     ]
    }
   ],
   "source": [
    "PDReciever = snr.PDReciever(SA, TB, AT, thetaR, tauB)\n",
    "print(PDReciever)"
   ]
  },
  {
   "cell_type": "code",
   "execution_count": 14,
   "id": "a1ba9794",
   "metadata": {},
   "outputs": [
    {
     "name": "stdout",
     "output_type": "stream",
     "text": [
      "0.5018740387647664\n"
     ]
    }
   ],
   "source": [
    "SNR = snr.SNR(PDReciever, NEE)\n",
    "print(SNR)"
   ]
  },
  {
   "cell_type": "code",
   "execution_count": null,
   "id": "13fd0298",
   "metadata": {},
   "outputs": [],
   "source": []
  }
 ],
 "metadata": {
  "kernelspec": {
   "display_name": "Python 3 (ipykernel)",
   "language": "python",
   "name": "python3"
  },
  "language_info": {
   "codemirror_mode": {
    "name": "ipython",
    "version": 3
   },
   "file_extension": ".py",
   "mimetype": "text/x-python",
   "name": "python",
   "nbconvert_exporter": "python",
   "pygments_lexer": "ipython3",
   "version": "3.9.12"
  }
 },
 "nbformat": 4,
 "nbformat_minor": 5
}
